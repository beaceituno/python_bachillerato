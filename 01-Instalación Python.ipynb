{
 "cells": [
  {
   "cell_type": "markdown",
   "metadata": {},
   "source": [
    "# Instalar `Python`"
   ]
  },
  {
   "cell_type": "raw",
   "metadata": {},
   "source": [
    "Beatriz Aceituno Moreno"
   ]
  },
  {
   "cell_type": "markdown",
   "metadata": {},
   "source": [
    "## Instalación en Windows\n",
    "\n",
    "<img src=\"https://upload.wikimedia.org/wikipedia/commons/thumb/0/0a/Python.svg/480px-Python.svg.png\" alt=\"Drawing\" align=\"center\" style=\"width: 100px;\"/>\n",
    "\n",
    "* Abrimos la página de descargas de la web oficial de [Python](https://www.python.org/download/releases/3.0/)    \n",
    "\n",
    "* Descargamos la última versión pulsando en __\"Download Python 3.6.2\"__\n",
    "\n",
    "* Ejecutamos el archivo `python-3.6.2.exe` que nos hemos bajado y seguimos los pasos del asistente para instalar el programa.\n",
    "\n",
    "* Seleccionamos la casilla `Add Python 3.6 to PATH` para poder acceder a Python desde el __intérprete de comandos__.\n",
    "\n",
    "* Pulsamos \"Install Now\" para comenzar la instalación.\n",
    "\n",
    "* Tenemos que permitir que el programa de instalación pueda realizar cambios en el equipo.\n",
    "\n",
    "* Una vez finalizada la instalación pulsamos `Close`"
   ]
  },
  {
   "cell_type": "markdown",
   "metadata": {},
   "source": [
    "## Comprobación de la instalación\n",
    "\n",
    "* Pulsa la tecla de Inicio de Windows\n",
    "\n",
    "* En `Buscar programas y archivos` escribimos `cmd.exe` para abrir el __intérprete de comandos__\n",
    "\n",
    "* Dentro del __intérprete de comandos__, escribimos `python`. Se abre el __intérprete de Python__ y comprobamos la versión instalada.\n",
    "\n",
    "* Para salir del __intérprete de Python__ escribimos el comando del Python:  `quit()`"
   ]
  },
  {
   "cell_type": "markdown",
   "metadata": {},
   "source": [
    "## Instalación de `Jupyter`\n",
    "\n",
    "* Vamos a utilizar `pip` que es el comando de Windows que se incluye en la versión de Python, para descargar desde internet e instalar paquetes o librerías.\n",
    "\n",
    "* Escribimos en el __intérprete de comandos__ de Windows: `pip3 install jupyter`\n"
   ]
  },
  {
   "cell_type": "markdown",
   "metadata": {},
   "source": [
    "## Iniciar Jupyter\n",
    "<img src=\"https://raw.githubusercontent.com/jupyter/design/master/logos/Rectangle%20Logo/rectanglelogo-greytext-orangebody-greymoons/rectanglelogo-greytext-orangebody-greymoons.png\" alt=\"Drawing\" align=\"center\" style=\"width: 200px;\"/>\n",
    "\n",
    "* Escribimos en el intérprete de comandos de Windows: `jupyter notebook`\n",
    "\n",
    "* Automáticamente se abre el navegador de Windows en la página por defecto: http://localhost:8888\n",
    "\n",
    "* Jupyter funciona cómo un servidor web, ahora podremos programar en Python desde el navegador.\n",
    "\n",
    "* IMPORTANTE: No cerrar el _intérprete de comandos_ de Windows, o Jupyter dejará de funcionar."
   ]
  }
 ],
 "metadata": {
  "kernelspec": {
   "display_name": "Python 3",
   "language": "python",
   "name": "python3"
  },
  "language_info": {
   "codemirror_mode": {
    "name": "ipython",
    "version": 3
   },
   "file_extension": ".py",
   "mimetype": "text/x-python",
   "name": "python",
   "nbconvert_exporter": "python",
   "pygments_lexer": "ipython3",
   "version": "3.6.2"
  }
 },
 "nbformat": 4,
 "nbformat_minor": 2
}

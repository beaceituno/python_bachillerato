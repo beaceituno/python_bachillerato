{
 "cells": [
  {
   "cell_type": "markdown",
   "metadata": {},
   "source": [
    "## TAREA 1: Receta de cocina\n",
    "\n",
    "* Consulta el chuletario de Markdown que viene en el apartado de recuros del curso:\n",
    "\n",
    "#### Chuletario Markdown\n",
    "[Descargar chuletario](http://joedicastro.com/pages/markdown.html#mark0)\n",
    " \n",
    "* Abre a continuación una celda nueva tipo Markdown y escribe en ella una receta de cocina. Si no se te ocurre ninguna, escribe la de una tortilla de patatas. Tu receta ha de contener los siguiente elementos:\n",
    "\n",
    "    * Encabezamientos de distintos tamaños\n",
    "    * Un enlace con título a una página web donde se muestre la receta\n",
    "    * Párrafos y saltos de línea\n",
    "    * Negrita\n",
    "    * Cursiva\n",
    "    * Negrita, cursiva y subrayado\n",
    "    * Listas numeradas\n",
    "    * Lista de puntos\n",
    "    * Una imagen de la receta\n",
    "    + Línes horizontales"
   ]
  },
  {
   "cell_type": "markdown",
   "metadata": {},
   "source": [
    "## TAREA 2: Lista de la compra\n",
    "\n",
    "+ Abre a continuación una celda nueva tipo Markdown y elabora una tabla con los ingredientes que has de comprar para realizar tu receta. Como mínimo ha de contener dos columnas: una con el *nombre del ingrediente* y otra con la *cantidad* del mismo que se ha de comprar.\n",
    "\n",
    "\n",
    "+ Elabora la tabla con las indicaciones que se dan en el chuletario de Markdown.\n",
    "\n",
    "\n",
    "+ Abre otra celda y elabora la misma tabla empleando para ello el generador de tablas para Markdown que se indica en la carpeta de recursos del curso:\n",
    "\n",
    "#### Generador de tablas en Markdown\n",
    "\n",
    "[Generador de tablas Markdown online](http://www.tablesgenerator.com/markdown_tables)\n"
   ]
  },
  {
   "cell_type": "code",
   "execution_count": null,
   "metadata": {
    "collapsed": true
   },
   "outputs": [],
   "source": []
  }
 ],
 "metadata": {
  "kernelspec": {
   "display_name": "Python 3",
   "language": "python",
   "name": "python3"
  },
  "language_info": {
   "codemirror_mode": {
    "name": "ipython",
    "version": 3
   },
   "file_extension": ".py",
   "mimetype": "text/x-python",
   "name": "python",
   "nbconvert_exporter": "python",
   "pygments_lexer": "ipython3",
   "version": "3.6.2"
  }
 },
 "nbformat": 4,
 "nbformat_minor": 2
}

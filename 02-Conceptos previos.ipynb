{
 "cells": [
  {
   "cell_type": "markdown",
   "metadata": {},
   "source": [
    "# CONCEPTOS PREVIOS"
   ]
  },
  {
   "cell_type": "markdown",
   "metadata": {},
   "source": [
    "## ¿Qué es Python?"
   ]
  },
  {
   "cell_type": "markdown",
   "metadata": {},
   "source": [
    "Python es un lenguaje de programación gratuito, multiplataforma y de código abierto que es potente y fácil de aprender. Python es un lenguaje de programación intepretado, es decir, se ejecuta instrucción por instrucción, lo que ofrece ventajas como la rapidez de desarrollo e inconvenientes como una menor velocidad.  \n",
    "\n",
    "Fue desarrollado por Guido Van Rossum hacia finales de los 80s principio de los 90s.  El nombre \"Python\" viene dado por la afición de Van Rossum al grupo Monty Python.\n",
    "\n",
    "### Características del lenguaje \n",
    "\n",
    "**Propósito general**   \n",
    "Se pueden crear todo tipo de programas. No es un lenguaje creado específicamente para la web, aunque entre sus posibilidades sí se encuentra el desarrollo de páginas. \n",
    "\n",
    "**Multiplataforma **  \n",
    "Hay versiones disponibles de Python en muchos sistemas informáticos distintos. Originalmente se desarrolló para Unix, aunque cualquier sistema es compatible con el lenguaje siempre y cuando exista un intérprete programado para él. \n",
    "\n",
    "**Interpretado**  \n",
    "Quiere decir que no se debe compilar el código antes de su ejecución. En realidad sí que se realiza una compilación, pero esta se realiza de manera transparente para el programador. En ciertos casos, cuando se ejecuta por primera vez un código, se producen unos bytecodes que se guardan en el sistema y que sirven para acelerar la compilación implícita que realiza el intérprete cada vez que se ejecuta el mismo código. \n",
    "\n",
    "**Interactivo**  \n",
    "Python dispone de un intérprete por línea de comandos en el que se pueden introducir sentencias. Cada sentencia se ejecuta y produce un resultado visible, que puede ayudarnos a entender mejor el lenguaje y probar los resultados de la ejecución de porciones de código rápidamente. \n",
    "\n",
    "**Orientado a Objetos**  \n",
    "La programación orientada a objetos está soportada en Python y ofrece en muchos casos una manera sencilla de crear programas con componentes reutilizables. \n",
    "\n",
    "**Funciones y librerías**   \n",
    "Dispone de muchas funciones incorporadas en el propio lenguaje, para el tratamiento de strings, números, archivos, etc. Además, existen muchas librerías que podemos importar en los programas para tratar temas específicos como la programación de ventanas o sistemas en red o cosas tan interesantes como crear archivos comprimidos en .zip. \n",
    "\n",
    "**Sintaxis clara**   \n",
    "Por último, destacar que Python tiene una sintaxis muy visual, gracias a una notación identada (con márgenes) de obligado cumplimiento. En muchos lenguajes, para separar porciones de código, se utilizan elementos como las llaves o las palabras clave begin y end. Para separar las porciones de código en Python se debe tabular hacia dentro, colocando un margen al código que iría dentro de una función o un bucle. Esto ayuda a que todos los programadores adopten unas mismas notaciones y que los programas de cualquier persona tengan un aspecto muy similar. \n"
   ]
  },
  {
   "cell_type": "markdown",
   "metadata": {
    "collapsed": true
   },
   "source": [
    "## ¿Qué es Jupyter?"
   ]
  },
  {
   "cell_type": "markdown",
   "metadata": {},
   "source": [
    "Jupyter Notebook es una aplicación web de código abierto. Jupyter es un notebook interactivo. Esto quiere decir que con él podrás ejecutar código a la vez que presentar texto con formato, incluyendo imágenes, diagramas y ecuaciones matemáticas de forma integrada. Esto te permitirá presentar trabajos de forma más elegante,entendible e interactiva. Usando jupyter podrás usar, entre muchos más, R, Python, Julia y Matlab.  \n",
    "  \n",
    "Jupyter utiliza **Markdown** como lenguaje para edición de texto.  \n",
    "Las ecuaciones en Markdown funcionan bajo **Latex.**\n"
   ]
  },
  {
   "cell_type": "markdown",
   "metadata": {
    "collapsed": true
   },
   "source": [
    "## ¿Qué es Markdown?\n",
    "\n",
    "Markdown, creado por John Gruber en 2004, se clasifica dentro de los lenguajes denominados de marcas ligero y su característica principal es ocupar poco espacio y ser fácil de editar con un editor de texto.\n",
    " \n",
    "Un texto escrito en Markdown facilita la lectura, es rápido y cómodo de editar, y está estandarizado, por lo que existen numerosas herramientas compatibles con este lenguaje y con las que se puede aprovechar al máximo.\n"
   ]
  },
  {
   "cell_type": "code",
   "execution_count": null,
   "metadata": {
    "collapsed": true
   },
   "outputs": [],
   "source": []
  }
 ],
 "metadata": {
  "kernelspec": {
   "display_name": "Python 3",
   "language": "python",
   "name": "python3"
  },
  "language_info": {
   "codemirror_mode": {
    "name": "ipython",
    "version": 3
   },
   "file_extension": ".py",
   "mimetype": "text/x-python",
   "name": "python",
   "nbconvert_exporter": "python",
   "pygments_lexer": "ipython3",
   "version": "3.6.2"
  }
 },
 "nbformat": 4,
 "nbformat_minor": 2
}

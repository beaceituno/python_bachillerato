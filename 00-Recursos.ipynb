{
 "cells": [
  {
   "cell_type": "markdown",
   "metadata": {},
   "source": [
    "# RECURSOS DEL CURSO: PROGRAMACIÓN CON PYTHON"
   ]
  },
  {
   "cell_type": "markdown",
   "metadata": {},
   "source": [
    "## Tutorial de Python\n",
    "[Descargar tutorial](http://docs.python.org.ar/tutorial/pdfs/TutorialPython2.pdf)"
   ]
  },
  {
   "cell_type": "markdown",
   "metadata": {},
   "source": [
    "## Guía de estilo para el código Python: PEP8 \n",
    "[Descargar guía de estilo: PEP8](http://recursospython.com/pep8es.pdf)"
   ]
  },
  {
   "cell_type": "markdown",
   "metadata": {},
   "source": [
    "## Hoja resumen de Python 3\n",
    "\n",
    "[Descargar Hoja resumen Python 3](https://perso.limsi.fr/pointal/_media/python:cours:mementopython3-espanol.pdf)"
   ]
  },
  {
   "cell_type": "markdown",
   "metadata": {},
   "source": [
    "## Chuletario Markdown\n",
    "[Descargar chuletario](http://joedicastro.com/pages/markdown.html#mark0)"
   ]
  },
  {
   "cell_type": "markdown",
   "metadata": {},
   "source": [
    "## Generador de tablas en Markdown\n",
    "\n",
    "[Generador de tablas Markdown online](http://www.tablesgenerator.com/markdown_tables)"
   ]
  },
  {
   "cell_type": "markdown",
   "metadata": {},
   "source": [
    "## DINGUS: conversor Markdown HTML\n",
    "\n",
    "[Descargar DINGUS](https://daringfireball.net/projects/markdown/dingus)"
   ]
  },
  {
   "cell_type": "code",
   "execution_count": null,
   "metadata": {
    "collapsed": true
   },
   "outputs": [],
   "source": []
  }
 ],
 "metadata": {
  "kernelspec": {
   "display_name": "Python 3",
   "language": "python",
   "name": "python3"
  },
  "language_info": {
   "codemirror_mode": {
    "name": "ipython",
    "version": 3
   },
   "file_extension": ".py",
   "mimetype": "text/x-python",
   "name": "python",
   "nbconvert_exporter": "python",
   "pygments_lexer": "ipython3",
   "version": "3.6.2"
  }
 },
 "nbformat": 4,
 "nbformat_minor": 2
}
